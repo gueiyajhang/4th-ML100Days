{
 "cells": [
  {
   "cell_type": "markdown",
   "metadata": {
    "colab_type": "text",
    "id": "cj4tE8e8iUtO"
   },
   "source": [
    "#   \n",
    "\n",
    "# 作業目標:\n",
    "\n",
    "    1. 藉由固定的 dataset, 來驗證不同loss function\n",
    "    2. Dataset 的特性跟我們選用的loss function 對accrancy 的影響\n",
    "    \n",
    "    \n",
    "# 作業重點: \n",
    "    請分別選用 \"MSE\", \"binary _crossentropy\"\n",
    "    查看Train/test accurancy and loss rate\n",
    "    "
   ]
  },
  {
   "cell_type": "markdown",
   "metadata": {
    "colab_type": "text",
    "id": "R51J4KyyiUsL"
   },
   "source": [
    "# 導入必要的函數"
   ]
  },
  {
   "cell_type": "code",
   "execution_count": 70,
   "metadata": {
    "colab": {},
    "colab_type": "code",
    "id": "Qd68OQjciUsM"
   },
   "outputs": [],
   "source": [
    "from keras.datasets import cifar10\n",
    "import numpy as np\n",
    "np.random.seed(10)"
   ]
  },
  {
   "cell_type": "markdown",
   "metadata": {
    "colab_type": "text",
    "id": "GxKuzQLQiUsP"
   },
   "source": [
    "# 資料準備"
   ]
  },
  {
   "cell_type": "code",
   "execution_count": 71,
   "metadata": {
    "colab": {},
    "colab_type": "code",
    "id": "MIbFZdTCiUsQ"
   },
   "outputs": [],
   "source": [
    "#取得Keras Dataset\n",
    "(x_img_train,y_label_train),(x_img_test,y_label_test)=cifar10.load_data()"
   ]
  },
  {
   "cell_type": "code",
   "execution_count": 72,
   "metadata": {
    "colab": {},
    "colab_type": "code",
    "id": "J8CJVjNOiUsS"
   },
   "outputs": [
    {
     "name": "stdout",
     "output_type": "stream",
     "text": [
      "train data: images: (50000, 32, 32, 3)  labels: (50000, 1)\n",
      "test  data: images: (10000, 32, 32, 3)  labels: (10000, 1)\n"
     ]
    }
   ],
   "source": [
    "#確認 CIFAR10 Dataset 資料維度\n",
    "print(\"train data:\",'images:',x_img_train.shape,\n",
    "      \" labels:\",y_label_train.shape) \n",
    "print(\"test  data:\",'images:',x_img_test.shape ,\n",
    "      \" labels:\",y_label_test.shape) "
   ]
  },
  {
   "cell_type": "code",
   "execution_count": 73,
   "metadata": {
    "colab": {},
    "colab_type": "code",
    "id": "V3P6P4DXiUsV"
   },
   "outputs": [],
   "source": [
    "#資料正規化\n",
    "x_img_train_normalize = x_img_train.astype('float32') / 255.0\n",
    "x_img_test_normalize = x_img_test.astype('float32') / 255.0"
   ]
  },
  {
   "cell_type": "code",
   "execution_count": 74,
   "metadata": {
    "colab": {},
    "colab_type": "code",
    "id": "vsDyjKYliUsX"
   },
   "outputs": [
    {
     "data": {
      "text/plain": [
       "(10000, 10)"
      ]
     },
     "execution_count": 74,
     "metadata": {},
     "output_type": "execute_result"
    }
   ],
   "source": [
    "#針對Label 做 ONE HOT ENCODE\n",
    "from keras.utils import np_utils\n",
    "y_label_train_OneHot = np_utils.to_categorical(y_label_train)\n",
    "y_label_test_OneHot = np_utils.to_categorical(y_label_test)\n",
    "y_label_test_OneHot.shape"
   ]
  },
  {
   "cell_type": "markdown",
   "metadata": {
    "colab_type": "text",
    "id": "RutW2OtgiUsZ"
   },
   "source": [
    "# 建立模型"
   ]
  },
  {
   "cell_type": "code",
   "execution_count": 75,
   "metadata": {
    "colab": {},
    "colab_type": "code",
    "id": "aHz592aXiUsa"
   },
   "outputs": [],
   "source": [
    "from keras.models import Sequential\n",
    "from keras.layers import Dense, Dropout, Activation, Flatten\n",
    "from keras.layers import Conv2D, MaxPooling2D, ZeroPadding2D"
   ]
  },
  {
   "cell_type": "code",
   "execution_count": 76,
   "metadata": {
    "colab": {},
    "colab_type": "code",
    "id": "hslqrIp0iUse"
   },
   "outputs": [],
   "source": [
    "model = Sequential()"
   ]
  },
  {
   "cell_type": "code",
   "execution_count": 77,
   "metadata": {
    "colab": {},
    "colab_type": "code",
    "id": "Hqe35hs2iUsi"
   },
   "outputs": [],
   "source": [
    "#卷積層1"
   ]
  },
  {
   "cell_type": "code",
   "execution_count": 78,
   "metadata": {
    "colab": {},
    "colab_type": "code",
    "id": "ED7dqe1YiUsm"
   },
   "outputs": [],
   "source": [
    "model.add(Conv2D(filters=32,kernel_size=(3,3),\n",
    "                 input_shape=(32, 32,3), \n",
    "                 activation='relu', \n",
    "                 padding='same'))"
   ]
  },
  {
   "cell_type": "code",
   "execution_count": 79,
   "metadata": {
    "colab": {},
    "colab_type": "code",
    "id": "n-GRKmPViUso"
   },
   "outputs": [],
   "source": [
    "model.add(Dropout(rate=0.25))"
   ]
  },
  {
   "cell_type": "code",
   "execution_count": 80,
   "metadata": {
    "colab": {},
    "colab_type": "code",
    "id": "GlWnnD1uiUsw"
   },
   "outputs": [],
   "source": [
    "model.add(MaxPooling2D(pool_size=(2, 2)))"
   ]
  },
  {
   "cell_type": "code",
   "execution_count": 81,
   "metadata": {
    "colab": {},
    "colab_type": "code",
    "id": "nawlkt55iUsy"
   },
   "outputs": [],
   "source": [
    "#卷積層2與池化層2"
   ]
  },
  {
   "cell_type": "code",
   "execution_count": 82,
   "metadata": {
    "colab": {},
    "colab_type": "code",
    "id": "xxyETiKNiUs1"
   },
   "outputs": [],
   "source": [
    "model.add(Conv2D(filters=64, kernel_size=(3, 3), \n",
    "                 activation='relu', padding='same'))"
   ]
  },
  {
   "cell_type": "code",
   "execution_count": 83,
   "metadata": {
    "colab": {},
    "colab_type": "code",
    "id": "RqcKWtqGiUs2"
   },
   "outputs": [],
   "source": [
    "model.add(Dropout(0.25))"
   ]
  },
  {
   "cell_type": "code",
   "execution_count": 84,
   "metadata": {
    "colab": {},
    "colab_type": "code",
    "id": "BUOOzlqfiUs4"
   },
   "outputs": [],
   "source": [
    "model.add(MaxPooling2D(pool_size=(2, 2)))"
   ]
  },
  {
   "cell_type": "code",
   "execution_count": 85,
   "metadata": {
    "colab": {},
    "colab_type": "code",
    "id": "LpkppB2siUs7"
   },
   "outputs": [],
   "source": [
    "#建立神經網路(平坦層、隱藏層、輸出層)"
   ]
  },
  {
   "cell_type": "code",
   "execution_count": 86,
   "metadata": {
    "colab": {},
    "colab_type": "code",
    "id": "UQOfU54_iUs_"
   },
   "outputs": [],
   "source": [
    "model.add(Flatten())\n",
    "model.add(Dropout(rate=0.25))"
   ]
  },
  {
   "cell_type": "code",
   "execution_count": 87,
   "metadata": {
    "colab": {},
    "colab_type": "code",
    "id": "_NV-8sq4iUtD"
   },
   "outputs": [],
   "source": [
    "model.add(Dense(1024, activation='relu'))\n",
    "model.add(Dropout(rate=0.25))"
   ]
  },
  {
   "cell_type": "code",
   "execution_count": 88,
   "metadata": {
    "colab": {},
    "colab_type": "code",
    "id": "qVK77krOiUtF"
   },
   "outputs": [],
   "source": [
    "model.add(Dense(10, activation='softmax'))"
   ]
  },
  {
   "cell_type": "code",
   "execution_count": 89,
   "metadata": {
    "colab": {},
    "colab_type": "code",
    "id": "ZxzRIjR0iUtH"
   },
   "outputs": [
    {
     "name": "stdout",
     "output_type": "stream",
     "text": [
      "Model: \"sequential_3\"\n",
      "_________________________________________________________________\n",
      "Layer (type)                 Output Shape              Param #   \n",
      "=================================================================\n",
      "conv2d_5 (Conv2D)            (None, 32, 32, 32)        896       \n",
      "_________________________________________________________________\n",
      "dropout_9 (Dropout)          (None, 32, 32, 32)        0         \n",
      "_________________________________________________________________\n",
      "max_pooling2d_5 (MaxPooling2 (None, 16, 16, 32)        0         \n",
      "_________________________________________________________________\n",
      "conv2d_6 (Conv2D)            (None, 16, 16, 64)        18496     \n",
      "_________________________________________________________________\n",
      "dropout_10 (Dropout)         (None, 16, 16, 64)        0         \n",
      "_________________________________________________________________\n",
      "max_pooling2d_6 (MaxPooling2 (None, 8, 8, 64)          0         \n",
      "_________________________________________________________________\n",
      "flatten_3 (Flatten)          (None, 4096)              0         \n",
      "_________________________________________________________________\n",
      "dropout_11 (Dropout)         (None, 4096)              0         \n",
      "_________________________________________________________________\n",
      "dense_5 (Dense)              (None, 1024)              4195328   \n",
      "_________________________________________________________________\n",
      "dropout_12 (Dropout)         (None, 1024)              0         \n",
      "_________________________________________________________________\n",
      "dense_6 (Dense)              (None, 10)                10250     \n",
      "=================================================================\n",
      "Total params: 4,224,970\n",
      "Trainable params: 4,224,970\n",
      "Non-trainable params: 0\n",
      "_________________________________________________________________\n",
      "None\n"
     ]
    }
   ],
   "source": [
    "#檢查model 的STACK\n",
    "print(model.summary())"
   ]
  },
  {
   "cell_type": "code",
   "execution_count": 90,
   "metadata": {},
   "outputs": [
    {
     "name": "stdout",
     "output_type": "stream",
     "text": [
      "save model to disk\n"
     ]
    }
   ],
   "source": [
    "model.save_weights(\"./cifarCnnModel.h5\")\n",
    "print(\"save model to disk\")"
   ]
  },
  {
   "cell_type": "markdown",
   "metadata": {
    "colab_type": "text",
    "id": "QJCtpJM0iUtJ"
   },
   "source": [
    "# 載入之前訓練的模型"
   ]
  },
  {
   "cell_type": "code",
   "execution_count": 91,
   "metadata": {
    "colab": {},
    "colab_type": "code",
    "id": "JU3A6NzQiUtK"
   },
   "outputs": [
    {
     "name": "stdout",
     "output_type": "stream",
     "text": [
      "載入模型成功!繼續訓練模型\n"
     ]
    }
   ],
   "source": [
    "try:\n",
    "    model.load_weights(\"./cifarCnnModel.h5\")\n",
    "    print(\"載入模型成功!繼續訓練模型\")\n",
    "except :    \n",
    "    print(\"載入模型失敗!開始訓練一個新模型\")"
   ]
  },
  {
   "cell_type": "markdown",
   "metadata": {
    "colab_type": "text",
    "id": "qBbCuziziUtM"
   },
   "source": [
    "# 訓練模型"
   ]
  },
  {
   "cell_type": "code",
   "execution_count": 92,
   "metadata": {
    "colab": {},
    "colab_type": "code",
    "id": "Q6BiBcseiUtP"
   },
   "outputs": [
    {
     "name": "stdout",
     "output_type": "stream",
     "text": [
      "Train on 37500 samples, validate on 12500 samples\n",
      "Epoch 1/25\n",
      "37500/37500 [==============================] - 69s 2ms/step - loss: 0.0903 - accuracy: 0.0999 - val_loss: 0.0899 - val_accuracy: 0.1152\n",
      "Epoch 2/25\n",
      "37500/37500 [==============================] - 68s 2ms/step - loss: 0.0901 - accuracy: 0.1058 - val_loss: 0.0898 - val_accuracy: 0.1319\n",
      "Epoch 3/25\n",
      "37500/37500 [==============================] - 69s 2ms/step - loss: 0.0900 - accuracy: 0.1124 - val_loss: 0.0898 - val_accuracy: 0.1412\n",
      "Epoch 4/25\n",
      "37500/37500 [==============================] - 68s 2ms/step - loss: 0.0898 - accuracy: 0.1160 - val_loss: 0.0897 - val_accuracy: 0.1524\n",
      "Epoch 5/25\n",
      "37500/37500 [==============================] - 69s 2ms/step - loss: 0.0898 - accuracy: 0.1236 - val_loss: 0.0896 - val_accuracy: 0.1625\n",
      "Epoch 6/25\n",
      "37500/37500 [==============================] - 68s 2ms/step - loss: 0.0896 - accuracy: 0.1256 - val_loss: 0.0896 - val_accuracy: 0.1710\n",
      "Epoch 7/25\n",
      "37500/37500 [==============================] - 68s 2ms/step - loss: 0.0896 - accuracy: 0.1306 - val_loss: 0.0895 - val_accuracy: 0.1769\n",
      "Epoch 8/25\n",
      "37500/37500 [==============================] - 69s 2ms/step - loss: 0.0894 - accuracy: 0.1368 - val_loss: 0.0894 - val_accuracy: 0.1832\n",
      "Epoch 9/25\n",
      "37500/37500 [==============================] - 69s 2ms/step - loss: 0.0894 - accuracy: 0.1413 - val_loss: 0.0894 - val_accuracy: 0.1886\n",
      "Epoch 10/25\n",
      "37500/37500 [==============================] - 71s 2ms/step - loss: 0.0893 - accuracy: 0.1456 - val_loss: 0.0893 - val_accuracy: 0.1933\n",
      "Epoch 11/25\n",
      "37500/37500 [==============================] - 69s 2ms/step - loss: 0.0892 - accuracy: 0.1508 - val_loss: 0.0893 - val_accuracy: 0.1977\n",
      "Epoch 12/25\n",
      "37500/37500 [==============================] - 70s 2ms/step - loss: 0.0891 - accuracy: 0.1554 - val_loss: 0.0892 - val_accuracy: 0.2045\n",
      "Epoch 13/25\n",
      "37500/37500 [==============================] - 72s 2ms/step - loss: 0.0890 - accuracy: 0.1583 - val_loss: 0.0891 - val_accuracy: 0.2115\n",
      "Epoch 14/25\n",
      "37500/37500 [==============================] - 69s 2ms/step - loss: 0.0889 - accuracy: 0.1621 - val_loss: 0.0890 - val_accuracy: 0.2181\n",
      "Epoch 15/25\n",
      "37500/37500 [==============================] - 68s 2ms/step - loss: 0.0888 - accuracy: 0.1685 - val_loss: 0.0889 - val_accuracy: 0.2212\n",
      "Epoch 16/25\n",
      "37500/37500 [==============================] - 68s 2ms/step - loss: 0.0886 - accuracy: 0.1732 - val_loss: 0.0889 - val_accuracy: 0.2274\n",
      "Epoch 17/25\n",
      "37500/37500 [==============================] - 69s 2ms/step - loss: 0.0885 - accuracy: 0.1766 - val_loss: 0.0888 - val_accuracy: 0.2326\n",
      "Epoch 18/25\n",
      "37500/37500 [==============================] - 71s 2ms/step - loss: 0.0884 - accuracy: 0.1802 - val_loss: 0.0887 - val_accuracy: 0.2372\n",
      "Epoch 19/25\n",
      "37500/37500 [==============================] - 71s 2ms/step - loss: 0.0882 - accuracy: 0.1866 - val_loss: 0.0885 - val_accuracy: 0.2433\n",
      "Epoch 20/25\n",
      "37500/37500 [==============================] - 68s 2ms/step - loss: 0.0881 - accuracy: 0.1879 - val_loss: 0.0884 - val_accuracy: 0.2482\n",
      "Epoch 21/25\n",
      "37500/37500 [==============================] - 68s 2ms/step - loss: 0.0880 - accuracy: 0.1918 - val_loss: 0.0883 - val_accuracy: 0.2514\n",
      "Epoch 22/25\n",
      "37500/37500 [==============================] - 72s 2ms/step - loss: 0.0878 - accuracy: 0.2004 - val_loss: 0.0882 - val_accuracy: 0.2550\n",
      "Epoch 23/25\n",
      "37500/37500 [==============================] - 68s 2ms/step - loss: 0.0875 - accuracy: 0.2036 - val_loss: 0.0880 - val_accuracy: 0.2618\n",
      "Epoch 24/25\n",
      "37500/37500 [==============================] - 68s 2ms/step - loss: 0.0873 - accuracy: 0.2065 - val_loss: 0.0879 - val_accuracy: 0.2658\n",
      "Epoch 25/25\n",
      "37500/37500 [==============================] - 68s 2ms/step - loss: 0.0871 - accuracy: 0.2137 - val_loss: 0.0877 - val_accuracy: 0.2666\n"
     ]
    }
   ],
   "source": [
    "# model.compile(loss='categorical_crossentropy', optimizer='sgd', metrics=['accuracy'])\n",
    "# \"MSE\"\n",
    "model.compile(loss='MSE', optimizer='sgd', metrics=['accuracy'])\n",
    "'''\n",
    "作業:\n",
    "請分別選用 \"MSE\", \"binary _crossentropy\"\n",
    "查看Train/test accurancy and loss rate\n",
    "'''\n",
    "train_history=model.fit(x_img_train_normalize, y_label_train_OneHot,\n",
    "                        validation_split=0.25,\n",
    "                        epochs=25, batch_size=128, verbose=1)  "
   ]
  },
  {
   "cell_type": "code",
   "execution_count": 124,
   "metadata": {},
   "outputs": [],
   "source": [
    "import matplotlib.pyplot as plt\n",
    "%matplotlib inline\n",
    "\n",
    "#定義一個繪圖函數\n",
    "def show_train_history(train_acc, val_accuracy):\n",
    "    plt.plot(train_history.history[train_acc])\n",
    "    plt.plot(train_history.history[val_accuracy])\n",
    "    plt.title('Train History')\n",
    "    plt.ylabel('Accuracy')\n",
    "    plt.xlabel('Epoch')\n",
    "    plt.legend(['train_acc', 'val_accuracy'], loc='upper left')\n",
    "    plt.show()"
   ]
  },
  {
   "cell_type": "code",
   "execution_count": 125,
   "metadata": {},
   "outputs": [
    {
     "data": {
      "image/png": "[encoded data removed]",
      "text/plain": [
       "<Figure size 432x288 with 1 Axes>"
      ]
     },
     "metadata": {
      "needs_background": "light"
     },
     "output_type": "display_data"
    }
   ],
   "source": [
    "show_train_history('accuracy', 'val_accuracy')"
   ]
  },
  {
   "cell_type": "code",
   "execution_count": 126,
   "metadata": {},
   "outputs": [],
   "source": [
    "import matplotlib.pyplot as plt\n",
    "%matplotlib inline\n",
    "\n",
    "#定義一個繪圖函數\n",
    "def show_train_history(loss,val_loss):\n",
    "    plt.plot(train_history.history[loss])\n",
    "    plt.plot(train_history.history[val_loss])\n",
    "    plt.title('Test History')\n",
    "    plt.ylabel('Loss Rate')\n",
    "    plt.xlabel('Epoch')\n",
    "    plt.legend(['loss', 'val_loss'], loc='upper left')\n",
    "    plt.show()"
   ]
  },
  {
   "cell_type": "code",
   "execution_count": 127,
   "metadata": {},
   "outputs": [
    {
     "data": {
      "image/png": "[encoded data removed]",
      "text/plain": [
       "<Figure size 432x288 with 1 Axes>"
      ]
     },
     "metadata": {
      "needs_background": "light"
     },
     "output_type": "display_data"
    }
   ],
   "source": [
    "show_train_history('loss','val_loss')"
   ]
  },
  {
   "cell_type": "code",
   "execution_count": 97,
   "metadata": {},
   "outputs": [
    {
     "name": "stdout",
     "output_type": "stream",
     "text": [
      "50000/50000 [==============================] - 21s 411us/step\n",
      "\n",
      "accuracy= 0.2671000063419342\n"
     ]
    }
   ],
   "source": [
    "scores = model.evaluate(x_img_train_normalize, y_label_train_OneHot)\n",
    "print()\n",
    "print('accuracy=',scores[1])"
   ]
  },
  {
   "cell_type": "code",
   "execution_count": 98,
   "metadata": {},
   "outputs": [
    {
     "name": "stdout",
     "output_type": "stream",
     "text": [
      "Train on 37500 samples, validate on 12500 samples\n",
      "Epoch 1/25\n",
      "37500/37500 [==============================] - 71s 2ms/step - loss: 0.3075 - accuracy: 0.9000 - val_loss: 0.3084 - val_accuracy: 0.9000\n",
      "Epoch 2/25\n",
      "37500/37500 [==============================] - 75s 2ms/step - loss: 0.3015 - accuracy: 0.9000 - val_loss: 0.3034 - val_accuracy: 0.9000\n",
      "Epoch 3/25\n",
      "37500/37500 [==============================] - 74s 2ms/step - loss: 0.2960 - accuracy: 0.9002 - val_loss: 0.2989 - val_accuracy: 0.9000\n",
      "Epoch 4/25\n",
      "37500/37500 [==============================] - 72s 2ms/step - loss: 0.2915 - accuracy: 0.9004 - val_loss: 0.2957 - val_accuracy: 0.9000\n",
      "Epoch 5/25\n",
      "37500/37500 [==============================] - 72s 2ms/step - loss: 0.2884 - accuracy: 0.9005 - val_loss: 0.2922 - val_accuracy: 0.9000\n",
      "Epoch 6/25\n",
      "37500/37500 [==============================] - 71s 2ms/step - loss: 0.2853 - accuracy: 0.9008 - val_loss: 0.2894 - val_accuracy: 0.9001\n",
      "Epoch 7/25\n",
      "37500/37500 [==============================] - 71s 2ms/step - loss: 0.2824 - accuracy: 0.9009 - val_loss: 0.2875 - val_accuracy: 0.9001\n",
      "Epoch 8/25\n",
      "37500/37500 [==============================] - 71s 2ms/step - loss: 0.2799 - accuracy: 0.9011 - val_loss: 0.2850 - val_accuracy: 0.9001\n",
      "Epoch 9/25\n",
      "37500/37500 [==============================] - 71s 2ms/step - loss: 0.2778 - accuracy: 0.9013 - val_loss: 0.2834 - val_accuracy: 0.9002\n",
      "Epoch 10/25\n",
      "37500/37500 [==============================] - 71s 2ms/step - loss: 0.2753 - accuracy: 0.9015 - val_loss: 0.2807 - val_accuracy: 0.9002\n",
      "Epoch 11/25\n",
      "37500/37500 [==============================] - 74s 2ms/step - loss: 0.2729 - accuracy: 0.9019 - val_loss: 0.2791 - val_accuracy: 0.9002\n",
      "Epoch 12/25\n",
      "37500/37500 [==============================] - 76s 2ms/step - loss: 0.2707 - accuracy: 0.9021 - val_loss: 0.2771 - val_accuracy: 0.9003\n",
      "Epoch 13/25\n",
      "37500/37500 [==============================] - 75s 2ms/step - loss: 0.2682 - accuracy: 0.9024 - val_loss: 0.2750 - val_accuracy: 0.9004\n",
      "Epoch 14/25\n",
      "37500/37500 [==============================] - 75s 2ms/step - loss: 0.2663 - accuracy: 0.9030 - val_loss: 0.2728 - val_accuracy: 0.9004\n",
      "Epoch 15/25\n",
      "37500/37500 [==============================] - 75s 2ms/step - loss: 0.2642 - accuracy: 0.9033 - val_loss: 0.2711 - val_accuracy: 0.9004\n",
      "Epoch 16/25\n",
      "37500/37500 [==============================] - 74s 2ms/step - loss: 0.2623 - accuracy: 0.9033 - val_loss: 0.2694 - val_accuracy: 0.9005\n",
      "Epoch 17/25\n",
      "37500/37500 [==============================] - 75s 2ms/step - loss: 0.2600 - accuracy: 0.9039 - val_loss: 0.2674 - val_accuracy: 0.9006\n",
      "Epoch 18/25\n",
      "37500/37500 [==============================] - 72s 2ms/step - loss: 0.2581 - accuracy: 0.9044 - val_loss: 0.2656 - val_accuracy: 0.9007\n",
      "Epoch 19/25\n",
      "37500/37500 [==============================] - 71s 2ms/step - loss: 0.2565 - accuracy: 0.9045 - val_loss: 0.2640 - val_accuracy: 0.9010\n",
      "Epoch 20/25\n",
      "37500/37500 [==============================] - 72s 2ms/step - loss: 0.2550 - accuracy: 0.9047 - val_loss: 0.2625 - val_accuracy: 0.9013\n",
      "Epoch 21/25\n",
      "37500/37500 [==============================] - 71s 2ms/step - loss: 0.2537 - accuracy: 0.9050 - val_loss: 0.2612 - val_accuracy: 0.9011\n",
      "Epoch 22/25\n",
      "37500/37500 [==============================] - 71s 2ms/step - loss: 0.2520 - accuracy: 0.9052 - val_loss: 0.2601 - val_accuracy: 0.9012\n",
      "Epoch 23/25\n",
      "37500/37500 [==============================] - 72s 2ms/step - loss: 0.2509 - accuracy: 0.9054 - val_loss: 0.2590 - val_accuracy: 0.9013\n",
      "Epoch 24/25\n",
      "37500/37500 [==============================] - 71s 2ms/step - loss: 0.2492 - accuracy: 0.9059 - val_loss: 0.2564 - val_accuracy: 0.9021\n",
      "Epoch 25/25\n",
      "37500/37500 [==============================] - 71s 2ms/step - loss: 0.2480 - accuracy: 0.9064 - val_loss: 0.2559 - val_accuracy: 0.9022\n"
     ]
    }
   ],
   "source": [
    "# \"binary _crossentropy\"\n",
    "model.compile(loss='binary_crossentropy', optimizer='sgd', metrics=['accuracy'])\n",
    "'''\n",
    "作業:\n",
    "請分別選用 \"MSE\", \"binary _crossentropy\"\n",
    "查看Train/test accurancy and loss rate\n",
    "'''\n",
    "train_history=model.fit(x_img_train_normalize, y_label_train_OneHot,\n",
    "                        validation_split=0.25,\n",
    "                        epochs=25, batch_size=128, verbose=1)  "
   ]
  },
  {
   "cell_type": "code",
   "execution_count": 99,
   "metadata": {},
   "outputs": [],
   "source": [
    "import matplotlib.pyplot as plt\n",
    "%matplotlib inline\n",
    "\n",
    "#定義一個繪圖函數\n",
    "def show_train_history(train_acc,test_acc):\n",
    "    plt.plot(train_history.history[train_acc])\n",
    "    plt.plot(train_history.history[test_acc])\n",
    "    plt.title('Train History')\n",
    "    plt.ylabel('Accuracy')\n",
    "    plt.xlabel('Epoch')\n",
    "    plt.legend(['train_acc', 'val_acc'], loc='upper left')\n",
    "    plt.show()"
   ]
  },
  {
   "cell_type": "code",
   "execution_count": 100,
   "metadata": {},
   "outputs": [
    {
     "data": {
      "image/png": "[encoded data removed]",
      "text/plain": [
       "<Figure size 432x288 with 1 Axes>"
      ]
     },
     "metadata": {
      "needs_background": "light"
     },
     "output_type": "display_data"
    }
   ],
   "source": [
    "show_train_history('accuracy','val_accuracy')"
   ]
  },
  {
   "cell_type": "code",
   "execution_count": 128,
   "metadata": {},
   "outputs": [],
   "source": [
    "import matplotlib.pyplot as plt\n",
    "%matplotlib inline\n",
    "\n",
    "#定義一個繪圖函數\n",
    "def show_train_history_2(loss,val_loss):\n",
    "    plt.plot(train_history.history[loss])\n",
    "    plt.plot(train_history.history[val_loss])\n",
    "    plt.title('Train History')\n",
    "    plt.ylabel('Loss Rate')\n",
    "    plt.xlabel('Epoch')\n",
    "    plt.legend(['loss', 'val_loss'], loc='upper left')\n",
    "    plt.show()"
   ]
  },
  {
   "cell_type": "code",
   "execution_count": 129,
   "metadata": {},
   "outputs": [
    {
     "data": {
      "image/png": "[encoded data removed]",
      "text/plain": [
       "<Figure size 432x288 with 1 Axes>"
      ]
     },
     "metadata": {
      "needs_background": "light"
     },
     "output_type": "display_data"
    }
   ],
   "source": [
    "show_train_history('loss','val_loss')"
   ]
  },
  {
   "cell_type": "code",
   "execution_count": 130,
   "metadata": {},
   "outputs": [
    {
     "name": "stdout",
     "output_type": "stream",
     "text": [
      "50000/50000 [==============================] - 19s 378us/step\n",
      "\n",
      "accuracy= 0.9022635221481323\n"
     ]
    }
   ],
   "source": [
    "scores = model.evaluate(x_img_train_normalize, y_label_train_OneHot)\n",
    "print()\n",
    "print('accuracy=',scores[1])"
   ]
  },
  {
   "cell_type": "code",
   "execution_count": 131,
   "metadata": {},
   "outputs": [
    {
     "data": {
      "image/svg+xml": [
       "<svg height=\"754pt\" viewBox=\"0.00 0.00 217.00 848.00\" width=\"193pt\" xmlns=\"http://www.w3.org/2000/svg\" xmlns:xlink=\"http://www.w3.org/1999/xlink\">\n",
       "<g class=\"graph\" id=\"graph0\" transform=\"scale(0.888889 0.888889) rotate(0) translate(4 844)\">\n",
       "<title>G</title>\n",
       "<polygon fill=\"white\" points=\"-4,4 -4,-844 213,-844 213,4 -4,4\" stroke=\"none\"/>\n",
       "<!-- 1604282748296 -->\n",
       "<g class=\"node\" id=\"node1\"><title>1604282748296</title>\n",
       "<polygon fill=\"none\" points=\"16.5,-803.5 16.5,-839.5 192.5,-839.5 192.5,-803.5 16.5,-803.5\" stroke=\"black\"/>\n",
       "<text font-family=\"Times New Roman,serif\" font-size=\"14.00\" text-anchor=\"middle\" x=\"104.5\" y=\"-817.8\">conv2d_5_input: InputLayer</text>\n",
       "</g>\n",
       "<!-- 1604279335304 -->\n",
       "<g class=\"node\" id=\"node2\"><title>1604279335304</title>\n",
       "<polygon fill=\"none\" points=\"41,-730.5 41,-766.5 168,-766.5 168,-730.5 41,-730.5\" stroke=\"black\"/>\n",
       "<text font-family=\"Times New Roman,serif\" font-size=\"14.00\" text-anchor=\"middle\" x=\"104.5\" y=\"-744.8\">conv2d_5: Conv2D</text>\n",
       "</g>\n",
       "<!-- 1604282748296&#45;&gt;1604279335304 -->\n",
       "<g class=\"edge\" id=\"edge1\"><title>1604282748296-&gt;1604279335304</title>\n",
       "<path d=\"M104.5,-803.313C104.5,-795.289 104.5,-785.547 104.5,-776.569\" fill=\"none\" stroke=\"black\"/>\n",
       "<polygon fill=\"black\" points=\"108,-776.529 104.5,-766.529 101,-776.529 108,-776.529\" stroke=\"black\"/>\n",
       "</g>\n",
       "<!-- 1604283974728 -->\n",
       "<g class=\"node\" id=\"node3\"><title>1604283974728</title>\n",
       "<polygon fill=\"none\" points=\"39.5,-657.5 39.5,-693.5 169.5,-693.5 169.5,-657.5 39.5,-657.5\" stroke=\"black\"/>\n",
       "<text font-family=\"Times New Roman,serif\" font-size=\"14.00\" text-anchor=\"middle\" x=\"104.5\" y=\"-671.8\">dropout_9: Dropout</text>\n",
       "</g>\n",
       "<!-- 1604279335304&#45;&gt;1604283974728 -->\n",
       "<g class=\"edge\" id=\"edge2\"><title>1604279335304-&gt;1604283974728</title>\n",
       "<path d=\"M104.5,-730.313C104.5,-722.289 104.5,-712.547 104.5,-703.569\" fill=\"none\" stroke=\"black\"/>\n",
       "<polygon fill=\"black\" points=\"108,-703.529 104.5,-693.529 101,-703.529 108,-703.529\" stroke=\"black\"/>\n",
       "</g>\n",
       "<!-- 1604283915848 -->\n",
       "<g class=\"node\" id=\"node4\"><title>1604283915848</title>\n",
       "<polygon fill=\"none\" points=\"0,-584.5 0,-620.5 209,-620.5 209,-584.5 0,-584.5\" stroke=\"black\"/>\n",
       "<text font-family=\"Times New Roman,serif\" font-size=\"14.00\" text-anchor=\"middle\" x=\"104.5\" y=\"-598.8\">max_pooling2d_5: MaxPooling2D</text>\n",
       "</g>\n",
       "<!-- 1604283974728&#45;&gt;1604283915848 -->\n",
       "<g class=\"edge\" id=\"edge3\"><title>1604283974728-&gt;1604283915848</title>\n",
       "<path d=\"M104.5,-657.313C104.5,-649.289 104.5,-639.547 104.5,-630.569\" fill=\"none\" stroke=\"black\"/>\n",
       "<polygon fill=\"black\" points=\"108,-630.529 104.5,-620.529 101,-630.529 108,-630.529\" stroke=\"black\"/>\n",
       "</g>\n",
       "<!-- 1604286062536 -->\n",
       "<g class=\"node\" id=\"node5\"><title>1604286062536</title>\n",
       "<polygon fill=\"none\" points=\"41,-511.5 41,-547.5 168,-547.5 168,-511.5 41,-511.5\" stroke=\"black\"/>\n",
       "<text font-family=\"Times New Roman,serif\" font-size=\"14.00\" text-anchor=\"middle\" x=\"104.5\" y=\"-525.8\">conv2d_6: Conv2D</text>\n",
       "</g>\n",
       "<!-- 1604283915848&#45;&gt;1604286062536 -->\n",
       "<g class=\"edge\" id=\"edge4\"><title>1604283915848-&gt;1604286062536</title>\n",
       "<path d=\"M104.5,-584.313C104.5,-576.289 104.5,-566.547 104.5,-557.569\" fill=\"none\" stroke=\"black\"/>\n",
       "<polygon fill=\"black\" points=\"108,-557.529 104.5,-547.529 101,-557.529 108,-557.529\" stroke=\"black\"/>\n",
       "</g>\n",
       "<!-- 1604286086600 -->\n",
       "<g class=\"node\" id=\"node6\"><title>1604286086600</title>\n",
       "<polygon fill=\"none\" points=\"36,-438.5 36,-474.5 173,-474.5 173,-438.5 36,-438.5\" stroke=\"black\"/>\n",
       "<text font-family=\"Times New Roman,serif\" font-size=\"14.00\" text-anchor=\"middle\" x=\"104.5\" y=\"-452.8\">dropout_10: Dropout</text>\n",
       "</g>\n",
       "<!-- 1604286062536&#45;&gt;1604286086600 -->\n",
       "<g class=\"edge\" id=\"edge5\"><title>1604286062536-&gt;1604286086600</title>\n",
       "<path d=\"M104.5,-511.313C104.5,-503.289 104.5,-493.547 104.5,-484.569\" fill=\"none\" stroke=\"black\"/>\n",
       "<polygon fill=\"black\" points=\"108,-484.529 104.5,-474.529 101,-484.529 108,-484.529\" stroke=\"black\"/>\n",
       "</g>\n",
       "<!-- 1604286127368 -->\n",
       "<g class=\"node\" id=\"node7\"><title>1604286127368</title>\n",
       "<polygon fill=\"none\" points=\"0,-365.5 0,-401.5 209,-401.5 209,-365.5 0,-365.5\" stroke=\"black\"/>\n",
       "<text font-family=\"Times New Roman,serif\" font-size=\"14.00\" text-anchor=\"middle\" x=\"104.5\" y=\"-379.8\">max_pooling2d_6: MaxPooling2D</text>\n",
       "</g>\n",
       "<!-- 1604286086600&#45;&gt;1604286127368 -->\n",
       "<g class=\"edge\" id=\"edge6\"><title>1604286086600-&gt;1604286127368</title>\n",
       "<path d=\"M104.5,-438.313C104.5,-430.289 104.5,-420.547 104.5,-411.569\" fill=\"none\" stroke=\"black\"/>\n",
       "<polygon fill=\"black\" points=\"108,-411.529 104.5,-401.529 101,-411.529 108,-411.529\" stroke=\"black\"/>\n",
       "</g>\n",
       "<!-- 1604286155592 -->\n",
       "<g class=\"node\" id=\"node8\"><title>1604286155592</title>\n",
       "<polygon fill=\"none\" points=\"50,-292.5 50,-328.5 159,-328.5 159,-292.5 50,-292.5\" stroke=\"black\"/>\n",
       "<text font-family=\"Times New Roman,serif\" font-size=\"14.00\" text-anchor=\"middle\" x=\"104.5\" y=\"-306.8\">flatten_3: Flatten</text>\n",
       "</g>\n",
       "<!-- 1604286127368&#45;&gt;1604286155592 -->\n",
       "<g class=\"edge\" id=\"edge7\"><title>1604286127368-&gt;1604286155592</title>\n",
       "<path d=\"M104.5,-365.313C104.5,-357.289 104.5,-347.547 104.5,-338.569\" fill=\"none\" stroke=\"black\"/>\n",
       "<polygon fill=\"black\" points=\"108,-338.529 104.5,-328.529 101,-338.529 108,-338.529\" stroke=\"black\"/>\n",
       "</g>\n",
       "<!-- 1604286155528 -->\n",
       "<g class=\"node\" id=\"node9\"><title>1604286155528</title>\n",
       "<polygon fill=\"none\" points=\"36,-219.5 36,-255.5 173,-255.5 173,-219.5 36,-219.5\" stroke=\"black\"/>\n",
       "<text font-family=\"Times New Roman,serif\" font-size=\"14.00\" text-anchor=\"middle\" x=\"104.5\" y=\"-233.8\">dropout_11: Dropout</text>\n",
       "</g>\n",
       "<!-- 1604286155592&#45;&gt;1604286155528 -->\n",
       "<g class=\"edge\" id=\"edge8\"><title>1604286155592-&gt;1604286155528</title>\n",
       "<path d=\"M104.5,-292.313C104.5,-284.289 104.5,-274.547 104.5,-265.569\" fill=\"none\" stroke=\"black\"/>\n",
       "<polygon fill=\"black\" points=\"108,-265.529 104.5,-255.529 101,-265.529 108,-265.529\" stroke=\"black\"/>\n",
       "</g>\n",
       "<!-- 1604286085128 -->\n",
       "<g class=\"node\" id=\"node10\"><title>1604286085128</title>\n",
       "<polygon fill=\"none\" points=\"52.5,-146.5 52.5,-182.5 156.5,-182.5 156.5,-146.5 52.5,-146.5\" stroke=\"black\"/>\n",
       "<text font-family=\"Times New Roman,serif\" font-size=\"14.00\" text-anchor=\"middle\" x=\"104.5\" y=\"-160.8\">dense_5: Dense</text>\n",
       "</g>\n",
       "<!-- 1604286155528&#45;&gt;1604286085128 -->\n",
       "<g class=\"edge\" id=\"edge9\"><title>1604286155528-&gt;1604286085128</title>\n",
       "<path d=\"M104.5,-219.313C104.5,-211.289 104.5,-201.547 104.5,-192.569\" fill=\"none\" stroke=\"black\"/>\n",
       "<polygon fill=\"black\" points=\"108,-192.529 104.5,-182.529 101,-192.529 108,-192.529\" stroke=\"black\"/>\n",
       "</g>\n",
       "<!-- 1604286085192 -->\n",
       "<g class=\"node\" id=\"node11\"><title>1604286085192</title>\n",
       "<polygon fill=\"none\" points=\"36,-73.5 36,-109.5 173,-109.5 173,-73.5 36,-73.5\" stroke=\"black\"/>\n",
       "<text font-family=\"Times New Roman,serif\" font-size=\"14.00\" text-anchor=\"middle\" x=\"104.5\" y=\"-87.8\">dropout_12: Dropout</text>\n",
       "</g>\n",
       "<!-- 1604286085128&#45;&gt;1604286085192 -->\n",
       "<g class=\"edge\" id=\"edge10\"><title>1604286085128-&gt;1604286085192</title>\n",
       "<path d=\"M104.5,-146.313C104.5,-138.289 104.5,-128.547 104.5,-119.569\" fill=\"none\" stroke=\"black\"/>\n",
       "<polygon fill=\"black\" points=\"108,-119.529 104.5,-109.529 101,-119.529 108,-119.529\" stroke=\"black\"/>\n",
       "</g>\n",
       "<!-- 1604286309192 -->\n",
       "<g class=\"node\" id=\"node12\"><title>1604286309192</title>\n",
       "<polygon fill=\"none\" points=\"52.5,-0.5 52.5,-36.5 156.5,-36.5 156.5,-0.5 52.5,-0.5\" stroke=\"black\"/>\n",
       "<text font-family=\"Times New Roman,serif\" font-size=\"14.00\" text-anchor=\"middle\" x=\"104.5\" y=\"-14.8\">dense_6: Dense</text>\n",
       "</g>\n",
       "<!-- 1604286085192&#45;&gt;1604286309192 -->\n",
       "<g class=\"edge\" id=\"edge11\"><title>1604286085192-&gt;1604286309192</title>\n",
       "<path d=\"M104.5,-73.3129C104.5,-65.2895 104.5,-55.5475 104.5,-46.5691\" fill=\"none\" stroke=\"black\"/>\n",
       "<polygon fill=\"black\" points=\"108,-46.5288 104.5,-36.5288 101,-46.5289 108,-46.5288\" stroke=\"black\"/>\n",
       "</g>\n",
       "</g>\n",
       "</svg>"
      ],
      "text/plain": [
       "<IPython.core.display.SVG object>"
      ]
     },
     "execution_count": 131,
     "metadata": {},
     "output_type": "execute_result"
    }
   ],
   "source": [
    "from IPython.display import SVG\n",
    "from keras.utils.vis_utils import model_to_dot\n",
    "%matplotlib inline\n",
    "SVG(model_to_dot(model, dpi=64).create(prog='dot', format='svg'))"
   ]
  },
  {
   "cell_type": "markdown",
   "metadata": {},
   "source": [
    "loss function選擇binary _crossentropy 對accrancy有較好的結果"
   ]
  },
  {
   "cell_type": "code",
   "execution_count": null,
   "metadata": {},
   "outputs": [],
   "source": []
  }
 ],
 "metadata": {
  "colab": {
   "name": "Day71-使用損失函數_HW.ipynb",
   "provenance": [],
   "version": "0.3.2"
  },
  "kernelspec": {
   "display_name": "Python 3",
   "language": "python",
   "name": "python3"
  },
  "language_info": {
   "codemirror_mode": {
    "name": "ipython",
    "version": 3
   },
   "file_extension": ".py",
   "mimetype": "text/x-python",
   "name": "python",
   "nbconvert_exporter": "python",
   "pygments_lexer": "ipython3",
   "version": "3.7.4"
  }
 },
 "nbformat": 4,
 "nbformat_minor": 1
}
